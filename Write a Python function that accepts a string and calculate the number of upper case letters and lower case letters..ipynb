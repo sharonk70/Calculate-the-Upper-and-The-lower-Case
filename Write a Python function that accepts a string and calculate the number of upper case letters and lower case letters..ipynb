{
 "cells": [
  {
   "cell_type": "code",
   "execution_count": 4,
   "id": "f897088f",
   "metadata": {},
   "outputs": [],
   "source": [
    "def u_lcase(str):\n",
    "    u={\"UCASE\":0, \"LCASE\":0}\n",
    "    for x in str:\n",
    "        if x.isupper():\n",
    "            u[\"UCASE\"]+=1\n",
    "        elif x.islower():\n",
    "            u[\"LCASE\"]+=1\n",
    "        else:\n",
    "            pass\n",
    "    print (\"String : \", str)\n",
    "    print (\"No. of Upper case characters : \", u[\"UCASE\"])\n",
    "    print (\"No. of Lower case Characters : \", u[\"LCASE\"])"
   ]
  },
  {
   "cell_type": "code",
   "execution_count": 5,
   "id": "b220eba0",
   "metadata": {},
   "outputs": [
    {
     "name": "stdout",
     "output_type": "stream",
     "text": [
      "String :  he quick Brow Fox\n",
      "No. of Upper case characters :  2\n",
      "No. of Lower case Characters :  12\n"
     ]
    }
   ],
   "source": [
    "u_lcase('The quick Brow Fox')"
   ]
  },
  {
   "cell_type": "code",
   "execution_count": 6,
   "id": "6765b5ff",
   "metadata": {},
   "outputs": [
    {
     "name": "stdout",
     "output_type": "stream",
     "text": [
      "String :  Python\n",
      "No. of Upper case characters :  1\n",
      "No. of Lower case Characters :  5\n"
     ]
    }
   ],
   "source": [
    "u_lcase('Python')"
   ]
  },
  {
   "cell_type": "code",
   "execution_count": null,
   "id": "aa9dfd11",
   "metadata": {},
   "outputs": [],
   "source": []
  }
 ],
 "metadata": {
  "kernelspec": {
   "display_name": "Python 3",
   "language": "python",
   "name": "python3"
  },
  "language_info": {
   "codemirror_mode": {
    "name": "ipython",
    "version": 3
   },
   "file_extension": ".py",
   "mimetype": "text/x-python",
   "name": "python",
   "nbconvert_exporter": "python",
   "pygments_lexer": "ipython3",
   "version": "3.8.8"
  }
 },
 "nbformat": 4,
 "nbformat_minor": 5
}
